{
  "nbformat": 4,
  "nbformat_minor": 0,
  "metadata": {
    "colab": {
      "provenance": []
    },
    "kernelspec": {
      "name": "python3",
      "display_name": "Python 3"
    },
    "language_info": {
      "name": "python"
    }
  },
  "cells": [
    {
      "cell_type": "code",
      "source": [
        "import numpy as np\n",
        "import pandas as pd\n",
        "import string\n",
        "import matplotlib.pyplot as plt\n",
        "import seaborn as sns\n",
        "from typing_extensions import dataclass_transform\n",
        "from google.colab import files"
      ],
      "metadata": {
        "id": "4ggy6lTr7Ded"
      },
      "execution_count": 1,
      "outputs": []
    },
    {
      "cell_type": "code",
      "source": [
        "from sklearn.feature_extraction.text import TfidfVectorizer\n",
        "from sklearn.model_selection import train_test_split\n",
        "from sklearn.linear_model import LogisticRegression\n",
        "from sklearn.metrics import classification_report, accuracy_score, confusion_matrix\n",
        "import joblib"
      ],
      "metadata": {
        "id": "pe9UwzGQLHCo"
      },
      "execution_count": 2,
      "outputs": []
    },
    {
      "cell_type": "code",
      "source": [
        "\"\"\"\n",
        "DataFrame structure for the program\n",
        "Columns:\n",
        "Label( 0-Neutral(non-hate); 1-Hate )\n",
        "Tweets\n",
        "Tweet_P (Tweet after preprocessing)\n",
        "\n",
        "\"\"\""
      ],
      "metadata": {
        "colab": {
          "base_uri": "https://localhost:8080/",
          "height": 36
        },
        "id": "HHo2Nl_F735S",
        "outputId": "4c1aca29-2eff-4a43-8d6f-f8ce533eeaa0"
      },
      "execution_count": 3,
      "outputs": [
        {
          "output_type": "execute_result",
          "data": {
            "text/plain": [
              "'\\nDataFrame structure for the program\\nColumns:\\nLabel( 0-Neutral(non-hate); 1-Hate )\\nTweets\\nTweet_P (Tweet after preprocessing)\\n\\n'"
            ],
            "application/vnd.google.colaboratory.intrinsic+json": {
              "type": "string"
            }
          },
          "metadata": {},
          "execution_count": 3
        }
      ]
    },
    {
      "cell_type": "code",
      "source": [
        "Data_1 = pd.read_csv('/content/DataP_1.csv')\n",
        "Data_2 = pd.read_csv('/content/DataP_2.csv')\n",
        "Data_3 = pd.read_csv('/content/DataP_3.csv')\n",
        "Data_R = pd.read_csv('/content/DataP_R.csv')\n",
        "Data_1 = Data_1.dropna()\n",
        "Data_2 = Data_2.dropna()\n",
        "Data_3 = Data_3.dropna()\n",
        "Data_R = Data_R.dropna()"
      ],
      "metadata": {
        "id": "FsnVcU9_6AF_"
      },
      "execution_count": 4,
      "outputs": []
    },
    {
      "cell_type": "code",
      "source": [
        "#Splitting data into train-test\n",
        "vectorizer_1 = TfidfVectorizer()\n",
        "T1 = vectorizer_1.fit_transform(Data_1['Tweet_P'])\n",
        "\n",
        "joblib.dump(vectorizer_1, 'tfidf_vectorizer_1.pkl')\n",
        "\n",
        "L1 = Data_1['Label']\n",
        "T1_train, T1_test, L1_train, L1_test = train_test_split(T1, L1, test_size=0.2, random_state=42)\n",
        "print(T1_train.shape, T1_test.shape, L1_train.shape, L1_test.shape)"
      ],
      "metadata": {
        "colab": {
          "base_uri": "https://localhost:8080/"
        },
        "id": "kvjvfFg3XyTz",
        "outputId": "d738a3e6-6161-4482-a549-607d05561ac8"
      },
      "execution_count": 5,
      "outputs": [
        {
          "output_type": "stream",
          "name": "stdout",
          "text": [
            "(19826, 29983) (4957, 29983) (19826,) (4957,)\n"
          ]
        }
      ]
    },
    {
      "cell_type": "code",
      "source": [
        "T2 = Data_2['Tweet_P']\n",
        "L2 = Data_2['Label']\n",
        "T2_train, T2_test, L2_train, L2_test = train_test_split(T2, L2, test_size=0.5, random_state=42)\n",
        "print(T2_train.shape, T2_test.shape, L2_train.shape, L2_test.shape)"
      ],
      "metadata": {
        "colab": {
          "base_uri": "https://localhost:8080/"
        },
        "id": "cbVER-aSk3jc",
        "outputId": "ed9b7e91-c445-4bea-9149-35d75144bb60"
      },
      "execution_count": 6,
      "outputs": [
        {
          "output_type": "stream",
          "name": "stdout",
          "text": [
            "(20311,) (20311,) (20311,) (20311,)\n"
          ]
        }
      ]
    },
    {
      "cell_type": "code",
      "source": [
        "T3 = Data_3['Tweet_P']\n",
        "L3 = Data_3['Label']\n",
        "T3_train, T3_test, L3_train, L3_test = train_test_split(T3, L3, test_size=0.5, random_state=42)\n",
        "print(T3_train.shape, T3_test.shape, L3_train.shape, L3_test.shape)"
      ],
      "metadata": {
        "colab": {
          "base_uri": "https://localhost:8080/"
        },
        "id": "hNbbH6EU-Tve",
        "outputId": "4bea64cc-144b-4595-a6d6-527f8020875c"
      },
      "execution_count": 7,
      "outputs": [
        {
          "output_type": "stream",
          "name": "stdout",
          "text": [
            "(6953,) (6954,) (6953,) (6954,)\n"
          ]
        }
      ]
    },
    {
      "cell_type": "code",
      "source": [
        "TR = Data_R['Tweet_P']\n",
        "LR = Data_R['Label']\n",
        "TR_train, TR_test, LR_train, LR_test = train_test_split(TR, LR, test_size=0.5, random_state=42)\n",
        "print(TR_train.shape, TR_test.shape, LR_train.shape, LR_test.shape)"
      ],
      "metadata": {
        "colab": {
          "base_uri": "https://localhost:8080/"
        },
        "id": "Diiy0YvDLizD",
        "outputId": "16bcae01-b59c-4b52-b325-571e263c31b0"
      },
      "execution_count": 8,
      "outputs": [
        {
          "output_type": "stream",
          "name": "stdout",
          "text": [
            "(15977,) (15977,) (15977,) (15977,)\n"
          ]
        }
      ]
    },
    {
      "cell_type": "code",
      "source": [
        "\"\"\"\n",
        "Using Logistic regression model\n",
        "Model is fit on one data source & check accuracy for different data sources\n",
        "\"\"\""
      ],
      "metadata": {
        "colab": {
          "base_uri": "https://localhost:8080/",
          "height": 36
        },
        "id": "XbRoF-DY-Tno",
        "outputId": "bbfd9334-a710-4fac-9ca9-51c56bd46779"
      },
      "execution_count": 9,
      "outputs": [
        {
          "output_type": "execute_result",
          "data": {
            "text/plain": [
              "'\\nUsing Logistic regression model\\nModel is fit on one data source & check accuracy for different data sources\\n'"
            ],
            "application/vnd.google.colaboratory.intrinsic+json": {
              "type": "string"
            }
          },
          "metadata": {},
          "execution_count": 9
        }
      ]
    },
    {
      "cell_type": "code",
      "source": [
        "#Logistic Regression Model\n",
        "model_1 = LogisticRegression()\n",
        "model_1.fit(T1_train, L1_train)"
      ],
      "metadata": {
        "colab": {
          "base_uri": "https://localhost:8080/",
          "height": 74
        },
        "id": "Vf0r_aBw718N",
        "outputId": "9b45a3cf-1470-4b91-9dbc-f1882415b56f"
      },
      "execution_count": 10,
      "outputs": [
        {
          "output_type": "execute_result",
          "data": {
            "text/plain": [
              "LogisticRegression()"
            ],
            "text/html": [
              "<style>#sk-container-id-1 {color: black;}#sk-container-id-1 pre{padding: 0;}#sk-container-id-1 div.sk-toggleable {background-color: white;}#sk-container-id-1 label.sk-toggleable__label {cursor: pointer;display: block;width: 100%;margin-bottom: 0;padding: 0.3em;box-sizing: border-box;text-align: center;}#sk-container-id-1 label.sk-toggleable__label-arrow:before {content: \"▸\";float: left;margin-right: 0.25em;color: #696969;}#sk-container-id-1 label.sk-toggleable__label-arrow:hover:before {color: black;}#sk-container-id-1 div.sk-estimator:hover label.sk-toggleable__label-arrow:before {color: black;}#sk-container-id-1 div.sk-toggleable__content {max-height: 0;max-width: 0;overflow: hidden;text-align: left;background-color: #f0f8ff;}#sk-container-id-1 div.sk-toggleable__content pre {margin: 0.2em;color: black;border-radius: 0.25em;background-color: #f0f8ff;}#sk-container-id-1 input.sk-toggleable__control:checked~div.sk-toggleable__content {max-height: 200px;max-width: 100%;overflow: auto;}#sk-container-id-1 input.sk-toggleable__control:checked~label.sk-toggleable__label-arrow:before {content: \"▾\";}#sk-container-id-1 div.sk-estimator input.sk-toggleable__control:checked~label.sk-toggleable__label {background-color: #d4ebff;}#sk-container-id-1 div.sk-label input.sk-toggleable__control:checked~label.sk-toggleable__label {background-color: #d4ebff;}#sk-container-id-1 input.sk-hidden--visually {border: 0;clip: rect(1px 1px 1px 1px);clip: rect(1px, 1px, 1px, 1px);height: 1px;margin: -1px;overflow: hidden;padding: 0;position: absolute;width: 1px;}#sk-container-id-1 div.sk-estimator {font-family: monospace;background-color: #f0f8ff;border: 1px dotted black;border-radius: 0.25em;box-sizing: border-box;margin-bottom: 0.5em;}#sk-container-id-1 div.sk-estimator:hover {background-color: #d4ebff;}#sk-container-id-1 div.sk-parallel-item::after {content: \"\";width: 100%;border-bottom: 1px solid gray;flex-grow: 1;}#sk-container-id-1 div.sk-label:hover label.sk-toggleable__label {background-color: #d4ebff;}#sk-container-id-1 div.sk-serial::before {content: \"\";position: absolute;border-left: 1px solid gray;box-sizing: border-box;top: 0;bottom: 0;left: 50%;z-index: 0;}#sk-container-id-1 div.sk-serial {display: flex;flex-direction: column;align-items: center;background-color: white;padding-right: 0.2em;padding-left: 0.2em;position: relative;}#sk-container-id-1 div.sk-item {position: relative;z-index: 1;}#sk-container-id-1 div.sk-parallel {display: flex;align-items: stretch;justify-content: center;background-color: white;position: relative;}#sk-container-id-1 div.sk-item::before, #sk-container-id-1 div.sk-parallel-item::before {content: \"\";position: absolute;border-left: 1px solid gray;box-sizing: border-box;top: 0;bottom: 0;left: 50%;z-index: -1;}#sk-container-id-1 div.sk-parallel-item {display: flex;flex-direction: column;z-index: 1;position: relative;background-color: white;}#sk-container-id-1 div.sk-parallel-item:first-child::after {align-self: flex-end;width: 50%;}#sk-container-id-1 div.sk-parallel-item:last-child::after {align-self: flex-start;width: 50%;}#sk-container-id-1 div.sk-parallel-item:only-child::after {width: 0;}#sk-container-id-1 div.sk-dashed-wrapped {border: 1px dashed gray;margin: 0 0.4em 0.5em 0.4em;box-sizing: border-box;padding-bottom: 0.4em;background-color: white;}#sk-container-id-1 div.sk-label label {font-family: monospace;font-weight: bold;display: inline-block;line-height: 1.2em;}#sk-container-id-1 div.sk-label-container {text-align: center;}#sk-container-id-1 div.sk-container {/* jupyter's `normalize.less` sets `[hidden] { display: none; }` but bootstrap.min.css set `[hidden] { display: none !important; }` so we also need the `!important` here to be able to override the default hidden behavior on the sphinx rendered scikit-learn.org. See: https://github.com/scikit-learn/scikit-learn/issues/21755 */display: inline-block !important;position: relative;}#sk-container-id-1 div.sk-text-repr-fallback {display: none;}</style><div id=\"sk-container-id-1\" class=\"sk-top-container\"><div class=\"sk-text-repr-fallback\"><pre>LogisticRegression()</pre><b>In a Jupyter environment, please rerun this cell to show the HTML representation or trust the notebook. <br />On GitHub, the HTML representation is unable to render, please try loading this page with nbviewer.org.</b></div><div class=\"sk-container\" hidden><div class=\"sk-item\"><div class=\"sk-estimator sk-toggleable\"><input class=\"sk-toggleable__control sk-hidden--visually\" id=\"sk-estimator-id-1\" type=\"checkbox\" checked><label for=\"sk-estimator-id-1\" class=\"sk-toggleable__label sk-toggleable__label-arrow\">LogisticRegression</label><div class=\"sk-toggleable__content\"><pre>LogisticRegression()</pre></div></div></div></div></div>"
            ]
          },
          "metadata": {},
          "execution_count": 10
        }
      ]
    },
    {
      "cell_type": "code",
      "source": [
        "joblib.dump(model_1, 'logistic_regression_model_1.pkl')"
      ],
      "metadata": {
        "colab": {
          "base_uri": "https://localhost:8080/"
        },
        "id": "75oKRO_G-HaV",
        "outputId": "486cb2d6-c83a-40c2-dbe4-1929f2d48f75"
      },
      "execution_count": 11,
      "outputs": [
        {
          "output_type": "execute_result",
          "data": {
            "text/plain": [
              "['logistic_regression_model_1.pkl']"
            ]
          },
          "metadata": {},
          "execution_count": 11
        }
      ]
    },
    {
      "cell_type": "code",
      "source": [
        "#Download vectorizer_1 & model_1\n",
        "files.download('tfidf_vectorizer_1.pkl')\n",
        "files.download('logistic_regression_model_1.pkl')"
      ],
      "metadata": {
        "colab": {
          "base_uri": "https://localhost:8080/",
          "height": 17
        },
        "id": "Hazwkio2Sqh0",
        "outputId": "3ce91398-3af6-4dae-a9bd-a5e99cf582b8"
      },
      "execution_count": 12,
      "outputs": [
        {
          "output_type": "display_data",
          "data": {
            "text/plain": [
              "<IPython.core.display.Javascript object>"
            ],
            "application/javascript": [
              "\n",
              "    async function download(id, filename, size) {\n",
              "      if (!google.colab.kernel.accessAllowed) {\n",
              "        return;\n",
              "      }\n",
              "      const div = document.createElement('div');\n",
              "      const label = document.createElement('label');\n",
              "      label.textContent = `Downloading \"${filename}\": `;\n",
              "      div.appendChild(label);\n",
              "      const progress = document.createElement('progress');\n",
              "      progress.max = size;\n",
              "      div.appendChild(progress);\n",
              "      document.body.appendChild(div);\n",
              "\n",
              "      const buffers = [];\n",
              "      let downloaded = 0;\n",
              "\n",
              "      const channel = await google.colab.kernel.comms.open(id);\n",
              "      // Send a message to notify the kernel that we're ready.\n",
              "      channel.send({})\n",
              "\n",
              "      for await (const message of channel.messages) {\n",
              "        // Send a message to notify the kernel that we're ready.\n",
              "        channel.send({})\n",
              "        if (message.buffers) {\n",
              "          for (const buffer of message.buffers) {\n",
              "            buffers.push(buffer);\n",
              "            downloaded += buffer.byteLength;\n",
              "            progress.value = downloaded;\n",
              "          }\n",
              "        }\n",
              "      }\n",
              "      const blob = new Blob(buffers, {type: 'application/binary'});\n",
              "      const a = document.createElement('a');\n",
              "      a.href = window.URL.createObjectURL(blob);\n",
              "      a.download = filename;\n",
              "      div.appendChild(a);\n",
              "      a.click();\n",
              "      div.remove();\n",
              "    }\n",
              "  "
            ]
          },
          "metadata": {}
        },
        {
          "output_type": "display_data",
          "data": {
            "text/plain": [
              "<IPython.core.display.Javascript object>"
            ],
            "application/javascript": [
              "download(\"download_f526bc43-3f1f-44aa-933a-391584b7124d\", \"tfidf_vectorizer_1.pkl\", 879271)"
            ]
          },
          "metadata": {}
        },
        {
          "output_type": "display_data",
          "data": {
            "text/plain": [
              "<IPython.core.display.Javascript object>"
            ],
            "application/javascript": [
              "\n",
              "    async function download(id, filename, size) {\n",
              "      if (!google.colab.kernel.accessAllowed) {\n",
              "        return;\n",
              "      }\n",
              "      const div = document.createElement('div');\n",
              "      const label = document.createElement('label');\n",
              "      label.textContent = `Downloading \"${filename}\": `;\n",
              "      div.appendChild(label);\n",
              "      const progress = document.createElement('progress');\n",
              "      progress.max = size;\n",
              "      div.appendChild(progress);\n",
              "      document.body.appendChild(div);\n",
              "\n",
              "      const buffers = [];\n",
              "      let downloaded = 0;\n",
              "\n",
              "      const channel = await google.colab.kernel.comms.open(id);\n",
              "      // Send a message to notify the kernel that we're ready.\n",
              "      channel.send({})\n",
              "\n",
              "      for await (const message of channel.messages) {\n",
              "        // Send a message to notify the kernel that we're ready.\n",
              "        channel.send({})\n",
              "        if (message.buffers) {\n",
              "          for (const buffer of message.buffers) {\n",
              "            buffers.push(buffer);\n",
              "            downloaded += buffer.byteLength;\n",
              "            progress.value = downloaded;\n",
              "          }\n",
              "        }\n",
              "      }\n",
              "      const blob = new Blob(buffers, {type: 'application/binary'});\n",
              "      const a = document.createElement('a');\n",
              "      a.href = window.URL.createObjectURL(blob);\n",
              "      a.download = filename;\n",
              "      div.appendChild(a);\n",
              "      a.click();\n",
              "      div.remove();\n",
              "    }\n",
              "  "
            ]
          },
          "metadata": {}
        },
        {
          "output_type": "display_data",
          "data": {
            "text/plain": [
              "<IPython.core.display.Javascript object>"
            ],
            "application/javascript": [
              "download(\"download_7c1a3ccd-4e18-4aaa-a70a-0e97567b4263\", \"logistic_regression_model_1.pkl\", 240735)"
            ]
          },
          "metadata": {}
        }
      ]
    },
    {
      "cell_type": "code",
      "source": [
        "model_1 = joblib.load('logistic_regression_model_1.pkl')"
      ],
      "metadata": {
        "id": "E8_CdKftHMhm"
      },
      "execution_count": 13,
      "outputs": []
    },
    {
      "cell_type": "code",
      "source": [
        "#Model trained on Data Source 1 & Tested on Data Source 1"
      ],
      "metadata": {
        "id": "J9yLJa-pKwyu"
      },
      "execution_count": 14,
      "outputs": []
    },
    {
      "cell_type": "code",
      "source": [
        "L1_predicted = model_1.predict(T1_test)\n",
        "print(\"Model trained on Data Source 1 & Tested on Data Source 1\")\n",
        "print(\"Accuracy Score 1: \\n\", accuracy_score(L1_test, L1_predicted))\n",
        "print(\"Confusion Matrix: \\n\", confusion_matrix(L1_test, L1_predicted))\n",
        "print(\"Classification Report: \\n\", classification_report(L1_test, L1_predicted))"
      ],
      "metadata": {
        "colab": {
          "base_uri": "https://localhost:8080/"
        },
        "id": "pFv41s4aXyQT",
        "outputId": "8ee83677-a9ad-433c-dc7d-f540001c21d8"
      },
      "execution_count": 15,
      "outputs": [
        {
          "output_type": "stream",
          "name": "stdout",
          "text": [
            "Model trained on Data Source 1 & Tested on Data Source 1\n",
            "Accuracy Score 1: \n",
            " 0.9352430905789793\n",
            "Confusion Matrix: \n",
            " [[ 599  236]\n",
            " [  85 4037]]\n",
            "Classification Report: \n",
            "               precision    recall  f1-score   support\n",
            "\n",
            "           0       0.88      0.72      0.79       835\n",
            "           1       0.94      0.98      0.96      4122\n",
            "\n",
            "    accuracy                           0.94      4957\n",
            "   macro avg       0.91      0.85      0.88      4957\n",
            "weighted avg       0.93      0.94      0.93      4957\n",
            "\n"
          ]
        }
      ]
    },
    {
      "cell_type": "code",
      "source": [
        "sns.heatmap(confusion_matrix(L1_test, L1_predicted), annot=True, fmt='d', cmap='Blues', xticklabels=['Negative', 'Positive'], yticklabels=['Negative', 'Positive'])\n",
        "plt.xlabel('Predicted')\n",
        "plt.ylabel('Actual')\n",
        "plt.title('Confusion Matrix')\n",
        "plt.show()\n"
      ],
      "metadata": {
        "colab": {
          "base_uri": "https://localhost:8080/",
          "height": 472
        },
        "id": "42gm7hjABBm7",
        "outputId": "513ef64d-7311-4722-914f-c4b0ce60ca22"
      },
      "execution_count": 16,
      "outputs": [
        {
          "output_type": "display_data",
          "data": {
            "text/plain": [
              "<Figure size 640x480 with 2 Axes>"
            ],
            "image/png": "[encoded data removed]"
          },
          "metadata": {}
        }
      ]
    },
    {
      "cell_type": "code",
      "source": [
        "#Model trained on Data Source 1 & Tested on Data Source 2"
      ],
      "metadata": {
        "id": "azdn3LMiK21D"
      },
      "execution_count": 17,
      "outputs": []
    },
    {
      "cell_type": "code",
      "source": [
        "vectorizer_1 = joblib.load('tfidf_vectorizer_1.pkl')\n",
        "T2_test = vectorizer_1.transform(T2_test)\n",
        "model_1 = joblib.load('logistic_regression_model_1.pkl')\n",
        "L2_predicted = model_1.predict(T2_test)\n",
        "print(\"Model trained on Data Source 1 & Tested on Data Source 2\")\n",
        "print(\"Accuracy Score 1: \\n\", accuracy_score(L2_test, L2_predicted))\n",
        "print(\"Confusion Matrix: \\n\", confusion_matrix(L2_test, L2_predicted))\n",
        "print(\"Classification Report: \\n\", classification_report(L2_test, L2_predicted))"
      ],
      "metadata": {
        "colab": {
          "base_uri": "https://localhost:8080/"
        },
        "id": "3cz8nYHn-V1l",
        "outputId": "5e7b9158-77ab-4a54-afc6-103efe5f68d9"
      },
      "execution_count": 18,
      "outputs": [
        {
          "output_type": "stream",
          "name": "stdout",
          "text": [
            "Model trained on Data Source 1 & Tested on Data Source 2\n",
            "Accuracy Score 1: \n",
            " 0.5409876421643445\n",
            "Confusion Matrix: \n",
            " [[  412  8859]\n",
            " [  464 10576]]\n",
            "Classification Report: \n",
            "               precision    recall  f1-score   support\n",
            "\n",
            "           0       0.47      0.04      0.08      9271\n",
            "           1       0.54      0.96      0.69     11040\n",
            "\n",
            "    accuracy                           0.54     20311\n",
            "   macro avg       0.51      0.50      0.39     20311\n",
            "weighted avg       0.51      0.54      0.41     20311\n",
            "\n"
          ]
        }
      ]
    },
    {
      "cell_type": "code",
      "source": [
        "sns.heatmap(confusion_matrix(L2_test, L2_predicted), annot=True, fmt='d', cmap='Blues', xticklabels=['Negative', 'Positive'], yticklabels=['Negative', 'Positive'])\n",
        "plt.xlabel('Predicted')\n",
        "plt.ylabel('Actual')\n",
        "plt.title('Confusion Matrix')\n",
        "plt.show()"
      ],
      "metadata": {
        "colab": {
          "base_uri": "https://localhost:8080/",
          "height": 472
        },
        "id": "h7UqJiV0BBjb",
        "outputId": "f4de1ed6-6735-4552-b429-20e37fd83de1"
      },
      "execution_count": 19,
      "outputs": [
        {
          "output_type": "display_data",
          "data": {
            "text/plain": [
              "<Figure size 640x480 with 2 Axes>"
            ],
            "image/png": "[encoded data removed]"
          },
          "metadata": {}
        }
      ]
    },
    {
      "cell_type": "code",
      "source": [
        "#Model trained on Data Source 1 & Tested on Data Source 3"
      ],
      "metadata": {
        "id": "04hZfgcRK5q6"
      },
      "execution_count": 20,
      "outputs": []
    },
    {
      "cell_type": "code",
      "source": [
        "vectorizer_1 = joblib.load('tfidf_vectorizer_1.pkl')\n",
        "T3_test = vectorizer_1.transform(T3_test)\n",
        "model_1 = joblib.load('logistic_regression_model_1.pkl')\n",
        "L3_predicted = model_1.predict(T3_test)\n",
        "print(\"Model trained on Data Source 1 & Tested on Data Source 3\")\n",
        "print(\"Accuracy Score 1: \\n\", accuracy_score(L3_test, L3_predicted))\n",
        "print(\"Confusion Matrix: \\n\", confusion_matrix(L3_test, L3_predicted))\n",
        "print(\"Classification Report: \\n\", classification_report(L3_test, L3_predicted))"
      ],
      "metadata": {
        "colab": {
          "base_uri": "https://localhost:8080/"
        },
        "id": "fhAmj9Z7BBh7",
        "outputId": "f6905dd6-8de3-4486-b382-35ed600393be"
      },
      "execution_count": 21,
      "outputs": [
        {
          "output_type": "stream",
          "name": "stdout",
          "text": [
            "Model trained on Data Source 1 & Tested on Data Source 3\n",
            "Accuracy Score 1: \n",
            " 0.4926660914581536\n",
            "Confusion Matrix: \n",
            " [[  86 3381]\n",
            " [ 147 3340]]\n",
            "Classification Report: \n",
            "               precision    recall  f1-score   support\n",
            "\n",
            "           0       0.37      0.02      0.05      3467\n",
            "           1       0.50      0.96      0.65      3487\n",
            "\n",
            "    accuracy                           0.49      6954\n",
            "   macro avg       0.43      0.49      0.35      6954\n",
            "weighted avg       0.43      0.49      0.35      6954\n",
            "\n"
          ]
        }
      ]
    },
    {
      "cell_type": "code",
      "source": [
        "sns.heatmap(confusion_matrix(L3_test, L3_predicted), annot=True, fmt='d', cmap='Blues', xticklabels=['Negative', 'Positive'], yticklabels=['Negative', 'Positive'])\n",
        "plt.xlabel('Predicted')\n",
        "plt.ylabel('Actual')\n",
        "plt.title('Confusion Matrix')\n",
        "plt.show()"
      ],
      "metadata": {
        "colab": {
          "base_uri": "https://localhost:8080/",
          "height": 472
        },
        "id": "uhlE-2_3BBfl",
        "outputId": "fd311ba1-29c7-4b52-9ac4-e004eba3b240"
      },
      "execution_count": 22,
      "outputs": [
        {
          "output_type": "display_data",
          "data": {
            "text/plain": [
              "<Figure size 640x480 with 2 Axes>"
            ],
            "image/png": "[encoded data removed]"
          },
          "metadata": {}
        }
      ]
    },
    {
      "cell_type": "code",
      "source": [
        "#Model trained on Data Source 1 & Tested on Data Source R"
      ],
      "metadata": {
        "id": "9acv4UwBK_OX"
      },
      "execution_count": 23,
      "outputs": []
    },
    {
      "cell_type": "code",
      "source": [
        "vectorizer_1 = joblib.load('tfidf_vectorizer_1.pkl')\n",
        "TR_test = vectorizer_1.transform(TR_test)\n",
        "model_1 = joblib.load('logistic_regression_model_1.pkl')\n",
        "LR_predicted = model_1.predict(TR_test)\n",
        "print(\"Model trained on Data Source 1 & Tested on Data Source R\")\n",
        "print(\"Accuracy Score 1: \\n\", accuracy_score(LR_test, LR_predicted))\n",
        "print(\"Confusion Matrix: \\n\", confusion_matrix(LR_test, LR_predicted))\n",
        "print(\"Classification Report: \\n\", classification_report(LR_test, LR_predicted))"
      ],
      "metadata": {
        "colab": {
          "base_uri": "https://localhost:8080/"
        },
        "id": "1pJIcFJvLD65",
        "outputId": "939acd38-5d39-4abe-810a-45146ee39fcf"
      },
      "execution_count": 24,
      "outputs": [
        {
          "output_type": "stream",
          "name": "stdout",
          "text": [
            "Model trained on Data Source 1 & Tested on Data Source R\n",
            "Accuracy Score 1: \n",
            " 0.17550228453401764\n",
            "Confusion Matrix: \n",
            " [[ 1776 13113]\n",
            " [   60  1028]]\n",
            "Classification Report: \n",
            "               precision    recall  f1-score   support\n",
            "\n",
            "           0       0.97      0.12      0.21     14889\n",
            "           1       0.07      0.94      0.14      1088\n",
            "\n",
            "    accuracy                           0.18     15977\n",
            "   macro avg       0.52      0.53      0.17     15977\n",
            "weighted avg       0.91      0.18      0.21     15977\n",
            "\n"
          ]
        }
      ]
    },
    {
      "cell_type": "code",
      "source": [
        "sns.heatmap(confusion_matrix(LR_test, LR_predicted), annot=True, fmt='d', cmap='Blues', xticklabels=['Negative', 'Positive'], yticklabels=['Negative', 'Positive'])\n",
        "plt.xlabel('Predicted')\n",
        "plt.ylabel('Actual')\n",
        "plt.title('Confusion Matrix')\n",
        "plt.show()"
      ],
      "metadata": {
        "colab": {
          "base_uri": "https://localhost:8080/",
          "height": 472
        },
        "id": "vJ0wvyLULI9Z",
        "outputId": "1e1b4bb5-34e1-4180-b5d4-586ebccceec1"
      },
      "execution_count": 25,
      "outputs": [
        {
          "output_type": "display_data",
          "data": {
            "text/plain": [
              "<Figure size 640x480 with 2 Axes>"
            ],
            "image/png": "[encoded data removed]"
          },
          "metadata": {}
        }
      ]
    }
  ]
}